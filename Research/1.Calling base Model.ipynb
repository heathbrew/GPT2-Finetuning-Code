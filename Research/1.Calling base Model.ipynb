{
 "cells": [
  {
   "cell_type": "code",
   "execution_count": 1,
   "id": "0727b9ab-4b1f-4ed0-9fdd-9c9b677ca030",
   "metadata": {},
   "outputs": [],
   "source": [
    "import os"
   ]
  },
  {
   "cell_type": "code",
   "execution_count": 2,
   "id": "568e9732-482e-4617-b6b3-87a3b9956672",
   "metadata": {},
   "outputs": [
    {
     "data": {
      "text/plain": [
       "'/mnt/d/Projects/LLM finetuneing and Compression/Research'"
      ]
     },
     "execution_count": 2,
     "metadata": {},
     "output_type": "execute_result"
    }
   ],
   "source": [
    "%pwd"
   ]
  },
  {
   "cell_type": "code",
   "execution_count": 3,
   "id": "e8d0522a-3ae8-4856-9912-c7e819964412",
   "metadata": {},
   "outputs": [],
   "source": [
    "os.chdir(\"../\")"
   ]
  },
  {
   "cell_type": "code",
   "execution_count": 4,
   "id": "7f10fe2b-6337-4af1-b8c3-b15ce7276878",
   "metadata": {},
   "outputs": [
    {
     "data": {
      "text/plain": [
       "'/mnt/d/Projects/LLM finetuneing and Compression'"
      ]
     },
     "execution_count": 4,
     "metadata": {},
     "output_type": "execute_result"
    }
   ],
   "source": [
    "%pwd"
   ]
  },
  {
   "cell_type": "code",
   "execution_count": 10,
   "id": "17cfd411-d27f-4643-ac7b-723dd09de1fa",
   "metadata": {},
   "outputs": [],
   "source": [
    "from transformers import (\n",
    "    GPT2Tokenizer, \n",
    "    GPT2LMHeadModel, \n",
    "    # Trainer, \n",
    "    # TrainingArguments, \n",
    "    # DataCollatorForLanguageModeling,\n",
    "    # TrainerCallback,\n",
    "    pipeline\n",
    ")"
   ]
  },
  {
   "cell_type": "code",
   "execution_count": 11,
   "id": "49cf4f7d-0417-4cd3-8016-27cd07ba1273",
   "metadata": {},
   "outputs": [
    {
     "name": "stderr",
     "output_type": "stream",
     "text": [
      "Device set to use cuda:0\n",
      "Truncation was not explicitly activated but `max_length` is provided a specific value, please use `truncation=True` to explicitly truncate examples to max length. Defaulting to 'longest_first' truncation strategy. If you encode pairs of sequences (GLUE-style) with the tokenizer you can select this strategy more precisely by providing a specific strategy to `truncation`.\n"
     ]
    },
    {
     "name": "stdout",
     "output_type": "stream",
     "text": [
      "\n",
      "Base model text generation:\n",
      "Once upon a time, two guys had a mutual fondness in one place for one another after being in love and having a bad life. Their first time together was at the age of 12 and just before they got divorced at a party. But when\n"
     ]
    }
   ],
   "source": [
    "#####################################\n",
    "# 2. Calling finetuned model \n",
    "#####################################\n",
    "\n",
    "# Initialize GPT-2 tokenizer and set padding token (GPT-2 doesn't have one by default)\n",
    "tokenizer = GPT2Tokenizer.from_pretrained(\"model/gpt2-imdb-finetuned\")\n",
    "tokenizer.pad_token = tokenizer.eos_token\n",
    "\n",
    "# Load the GPT-2 model with a language modeling head\n",
    "model = GPT2LMHeadModel.from_pretrained(\"model/gpt2-imdb-finetuned\")\n",
    "\n",
    "#####################################\n",
    "# 3. Generate Text with Base Model\n",
    "#####################################\n",
    "\n",
    "# Initialize a text generation pipeline using the base model\n",
    "generator = pipeline('text-generation', model=model, tokenizer=tokenizer)\n",
    "\n",
    "# Generate sample text\n",
    "print(\"\\nBase model text generation:\")\n",
    "generated_text = generator(\"Once upon a time\", max_length=50, num_return_sequences=1)[0][\"generated_text\"]\n",
    "print(generated_text)"
   ]
  },
  {
   "cell_type": "code",
   "execution_count": 12,
   "id": "643575dc-1229-46d5-a2cb-d309c7c6a1e8",
   "metadata": {},
   "outputs": [
    {
     "name": "stderr",
     "output_type": "stream",
     "text": [
      "Device set to use cuda:0\n",
      "Truncation was not explicitly activated but `max_length` is provided a specific value, please use `truncation=True` to explicitly truncate examples to max length. Defaulting to 'longest_first' truncation strategy. If you encode pairs of sequences (GLUE-style) with the tokenizer you can select this strategy more precisely by providing a specific strategy to `truncation`.\n"
     ]
    },
    {
     "name": "stdout",
     "output_type": "stream",
     "text": [
      "\n",
      "Base model text generation:\n",
      "Once upon a time or a few years these people would have been going up there with their own business. They would have been taking a small slice of American jobs, getting their own homes, and living at home. They would feel comfortable spending money on\n"
     ]
    }
   ],
   "source": [
    "#####################################\n",
    "# 2. Calling base model\n",
    "#####################################\n",
    "\n",
    "# Initialize GPT-2 tokenizer and set padding token (GPT-2 doesn't have one by default)\n",
    "tokenizer = GPT2Tokenizer.from_pretrained(\"model/gpt2-base\")\n",
    "tokenizer.pad_token = tokenizer.eos_token\n",
    "\n",
    "# Load the GPT-2 model with a language modeling head\n",
    "model = GPT2LMHeadModel.from_pretrained(\"model/gpt2-base\")\n",
    "\n",
    "#####################################\n",
    "# 3. Generate Text with Base Model\n",
    "#####################################\n",
    "\n",
    "# Initialize a text generation pipeline using the base model\n",
    "generator = pipeline('text-generation', model=model, tokenizer=tokenizer)\n",
    "\n",
    "# Generate sample text\n",
    "print(\"\\nBase model text generation:\")\n",
    "generated_text = generator(\"Once upon a time\", max_length=50, num_return_sequences=1)[0][\"generated_text\"]\n",
    "print(generated_text)"
   ]
  },
  {
   "cell_type": "code",
   "execution_count": null,
   "id": "22b8cd8d-c04d-47c0-a456-4bdd26038a3a",
   "metadata": {},
   "outputs": [],
   "source": []
  }
 ],
 "metadata": {
  "kernelspec": {
   "display_name": "Python 3 (ipykernel)",
   "language": "python",
   "name": "python3"
  },
  "language_info": {
   "codemirror_mode": {
    "name": "ipython",
    "version": 3
   },
   "file_extension": ".py",
   "mimetype": "text/x-python",
   "name": "python",
   "nbconvert_exporter": "python",
   "pygments_lexer": "ipython3",
   "version": "3.10.12"
  }
 },
 "nbformat": 4,
 "nbformat_minor": 5
}
